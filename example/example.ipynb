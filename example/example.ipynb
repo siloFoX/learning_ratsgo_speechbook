{
 "cells": [
  {
   "cell_type": "code",
   "execution_count": 5,
   "metadata": {},
   "outputs": [],
   "source": [
    "import scipy.io.wavfile\n",
    "sample_rate, signal = scipy.io.wavfile.read('./wav/docs_feature_extraction_example.wav')"
   ]
  },
  {
   "cell_type": "code",
   "execution_count": 6,
   "metadata": {},
   "outputs": [
    {
     "data": {
      "text/plain": [
       "16000"
      ]
     },
     "execution_count": 6,
     "metadata": {},
     "output_type": "execute_result"
    }
   ],
   "source": [
    "sample_rate"
   ]
  },
  {
   "cell_type": "code",
   "execution_count": 7,
   "metadata": {},
   "outputs": [
    {
     "data": {
      "text/plain": [
       "array([36, 37, 60, ...,  7,  9,  8], dtype=int16)"
      ]
     },
     "execution_count": 7,
     "metadata": {},
     "output_type": "execute_result"
    }
   ],
   "source": [
    "signal"
   ]
  },
  {
   "cell_type": "code",
   "execution_count": 8,
   "metadata": {},
   "outputs": [
    {
     "data": {
      "text/plain": [
       "183280"
      ]
     },
     "execution_count": 8,
     "metadata": {},
     "output_type": "execute_result"
    }
   ],
   "source": [
    "len(signal)"
   ]
  },
  {
   "cell_type": "code",
   "execution_count": 10,
   "metadata": {},
   "outputs": [
    {
     "data": {
      "text/plain": [
       "11.455"
      ]
     },
     "execution_count": 10,
     "metadata": {},
     "output_type": "execute_result"
    }
   ],
   "source": [
    "len(signal) / sample_rate"
   ]
  },
  {
   "cell_type": "code",
   "execution_count": 11,
   "metadata": {},
   "outputs": [],
   "source": [
    "signal = signal[0:int(3.5 * sample_rate)]"
   ]
  },
  {
   "cell_type": "code",
   "execution_count": 12,
   "metadata": {},
   "outputs": [
    {
     "data": {
      "text/plain": [
       "56000"
      ]
     },
     "execution_count": 12,
     "metadata": {},
     "output_type": "execute_result"
    }
   ],
   "source": [
    "len(signal)"
   ]
  },
  {
   "cell_type": "code",
   "execution_count": 13,
   "metadata": {},
   "outputs": [],
   "source": [
    "import numpy as np\n",
    "pre_emphasis = 0.97\n",
    "emphasized_signal = np.append(signal[0], signal[1:] - pre_emphasis * signal[:-1])"
   ]
  },
  {
   "cell_type": "code",
   "execution_count": 15,
   "metadata": {},
   "outputs": [
    {
     "data": {
      "text/plain": [
       "array([  36.  ,    2.08,   24.11, ..., -233.76, -262.5 ,  -61.87])"
      ]
     },
     "execution_count": 15,
     "metadata": {},
     "output_type": "execute_result"
    }
   ],
   "source": [
    "emphasized_signal"
   ]
  },
  {
   "cell_type": "code",
   "execution_count": 16,
   "metadata": {},
   "outputs": [],
   "source": [
    "frame_size = 0.025\n",
    "frame_stride = 0.01\n",
    "frame_length, frame_step = frame_size * sample_rate, frame_stride * sample_rate\n",
    "signal_length = len(emphasized_signal)\n",
    "frame_length = int(round(frame_length))\n",
    "frame_step = int(round(frame_step))\n",
    "num_frames = int(np.ceil(float(np.abs(signal_length - frame_length)) / frame_step))\n",
    "pad_signal_length = num_frames * frame_step + frame_length\n",
    "z = np.zeros((pad_signal_length - signal_length))\n",
    "pad_signal = np.append(emphasized_signal, z)\n",
    "indices = np.tile(np.arange(0, frame_length), (num_frames, 1)) + \\\n",
    "          np.tile(np.arange(0, num_frames * frame_step, frame_step), (frame_length, 1)).T\n",
    "frames = pad_signal[indices.astype(np.int32, copy=False)]"
   ]
  },
  {
   "cell_type": "code",
   "execution_count": 17,
   "metadata": {},
   "outputs": [
    {
     "data": {
      "text/plain": [
       "array([36.  ,  2.08, 24.11, ...,  0.  ,  0.  ,  0.  ])"
      ]
     },
     "execution_count": 17,
     "metadata": {},
     "output_type": "execute_result"
    }
   ],
   "source": [
    "pad_signal"
   ]
  },
  {
   "cell_type": "code",
   "execution_count": 18,
   "metadata": {},
   "outputs": [
    {
     "data": {
      "text/plain": [
       "56080"
      ]
     },
     "execution_count": 18,
     "metadata": {},
     "output_type": "execute_result"
    }
   ],
   "source": [
    "len(pad_signal)"
   ]
  },
  {
   "cell_type": "code",
   "execution_count": 19,
   "metadata": {},
   "outputs": [
    {
     "data": {
      "text/plain": [
       "array([[    0,     1,     2, ...,   397,   398,   399],\n",
       "       [  160,   161,   162, ...,   557,   558,   559],\n",
       "       [  320,   321,   322, ...,   717,   718,   719],\n",
       "       ...,\n",
       "       [55200, 55201, 55202, ..., 55597, 55598, 55599],\n",
       "       [55360, 55361, 55362, ..., 55757, 55758, 55759],\n",
       "       [55520, 55521, 55522, ..., 55917, 55918, 55919]])"
      ]
     },
     "execution_count": 19,
     "metadata": {},
     "output_type": "execute_result"
    }
   ],
   "source": [
    "indices"
   ]
  },
  {
   "cell_type": "code",
   "execution_count": 20,
   "metadata": {},
   "outputs": [
    {
     "data": {
      "text/plain": [
       "(348, 400)"
      ]
     },
     "execution_count": 20,
     "metadata": {},
     "output_type": "execute_result"
    }
   ],
   "source": [
    "indices.shape"
   ]
  },
  {
   "cell_type": "code",
   "execution_count": 21,
   "metadata": {},
   "outputs": [
    {
     "data": {
      "text/plain": [
       "array([[  36.  ,    2.08,   24.11, ...,    4.56,    3.74,    2.89],\n",
       "       [  16.43,  -32.15,  -47.2 , ...,  -13.06,  -16.45,    2.07],\n",
       "       [  -9.  ,   -9.27,   11.46, ...,   -5.09,   -7.24,   -2.45],\n",
       "       ...,\n",
       "       [ 315.7 ,  130.65,  211.81, ..., -121.15,  -17.69, -195.02],\n",
       "       [ 283.62, 1098.42,  815.34, ...,   20.53,  136.92,  150.79],\n",
       "       [ -59.03, -212.81, -289.18, ..., -157.35,  -81.12,   24.54]])"
      ]
     },
     "execution_count": 21,
     "metadata": {},
     "output_type": "execute_result"
    }
   ],
   "source": [
    "frames"
   ]
  },
  {
   "cell_type": "code",
   "execution_count": 22,
   "metadata": {},
   "outputs": [],
   "source": [
    "frames *= np.array([0.54 - 0.46 * np.cos((2 * np.pi * n) / (frame_length - 1)) for n in range(frame_length)])"
   ]
  },
  {
   "cell_type": "code",
   "execution_count": 23,
   "metadata": {},
   "outputs": [],
   "source": [
    "NFFT = 512\n",
    "dft_frames = np.fft.rfft(frames, NFFT)"
   ]
  },
  {
   "cell_type": "code",
   "execution_count": 24,
   "metadata": {},
   "outputs": [],
   "source": [
    "mag_frames = np.absolute(dft_frames)"
   ]
  },
  {
   "cell_type": "code",
   "execution_count": 25,
   "metadata": {},
   "outputs": [],
   "source": [
    "pow_frames = ((1.0 / NFFT) * ((mag_frames) ** 2))"
   ]
  },
  {
   "cell_type": "code",
   "execution_count": 26,
   "metadata": {},
   "outputs": [
    {
     "data": {
      "text/plain": [
       "array([[  18.58681572  +0.j        ,  -14.01988178 -84.91698726j,\n",
       "         -24.70392533+106.88963159j, ...,  -26.66158624  -5.85474324j,\n",
       "           0.92680879 +28.72849855j,   32.82338322  +0.j        ],\n",
       "       [-142.51526149  +0.j        ,   85.6674828 +108.25845827j,\n",
       "          13.38303476-108.51765447j, ...,  -10.58513364  +4.31215777j,\n",
       "           7.05534013  -2.14342983j,   -3.03115655  +0.j        ],\n",
       "       [ -19.2843489   +0.j        ,  -15.14198098 -16.21735682j,\n",
       "         -40.12895986 +59.02120051j, ...,   -4.25775098 -14.59761671j,\n",
       "         -10.25228518  +7.21787503j,    8.21971695  +0.j        ],\n",
       "       ...,\n",
       "       [ -20.99872977  +0.j        , -173.80587746 -75.85843408j,\n",
       "        -120.10047358+121.33988075j, ...,  -36.66157943-135.12987296j,\n",
       "        -150.42479757 -89.13659856j,  214.56477173  +0.j        ],\n",
       "       [ 223.33492956  +0.j        ,  268.55310205 +78.36772313j,\n",
       "         177.86153856 +13.40968462j, ..., -471.85194623-511.29061637j,\n",
       "          45.11248225+373.13984952j,  166.92458692  +0.j        ],\n",
       "       [ -70.92601653  +0.j        ,  145.29755513 +30.95048802j,\n",
       "           9.87980069 -51.04003282j, ...,  259.85097643-284.83125235j,\n",
       "        -157.83633782 -92.86623919j,  -11.68459131  +0.j        ]])"
      ]
     },
     "execution_count": 26,
     "metadata": {},
     "output_type": "execute_result"
    }
   ],
   "source": [
    "dft_frames"
   ]
  },
  {
   "cell_type": "code",
   "execution_count": 27,
   "metadata": {},
   "outputs": [
    {
     "data": {
      "text/plain": [
       "array([[6.74745544e-01, 1.44676793e+01, 2.35071822e+01, ...,\n",
       "        1.45530898e+00, 1.61364376e+00, 2.10424704e+00],\n",
       "       [3.96691402e+01, 3.72242410e+01, 2.33499745e+01, ...,\n",
       "        2.55155779e-01, 1.06195539e-01, 1.79451368e-02],\n",
       "       [7.26340063e-01, 9.61488770e-01, 9.94889752e+00, ...,\n",
       "        4.51599330e-01, 3.07045061e-01, 1.31960443e-01],\n",
       "       ...,\n",
       "       [8.61223929e-01, 7.02402052e+01, 5.69286922e+01, ...,\n",
       "        3.82893632e+01, 5.97127987e+01, 8.99180494e+01],\n",
       "       [9.74189273e+01, 1.52855993e+02, 6.21377862e+01, ...,\n",
       "        9.45434284e+02, 2.75915007e+02, 5.44215190e+01],\n",
       "       [9.82519496e+00, 4.31041255e+01, 5.27870198e+00, ...,\n",
       "        2.90334711e+02, 6.55008748e+01, 2.66659520e-01]])"
      ]
     },
     "execution_count": 27,
     "metadata": {},
     "output_type": "execute_result"
    }
   ],
   "source": [
    "pow_frames"
   ]
  },
  {
   "cell_type": "code",
   "execution_count": 28,
   "metadata": {},
   "outputs": [],
   "source": [
    "nfilt = 40\n",
    "low_freq_mel = 0\n",
    "high_freq_mel = (2595 * np.log10(1 + (sample_rate / 2) / 700))  # Convert Hz to Mel\n",
    "mel_points = np.linspace(low_freq_mel, high_freq_mel, nfilt + 2)  # Equally spaced in Mel scale\n",
    "hz_points = (700 * (10**(mel_points / 2595) - 1))  # Convert Mel to Hz\n",
    "bin = np.floor((NFFT + 1) * hz_points / sample_rate)\n",
    "\n",
    "fbank = np.zeros((nfilt, int(np.floor(NFFT / 2 + 1))))\n",
    "for m in range(1, nfilt + 1):\n",
    "    f_m_minus = int(bin[m - 1])   # left\n",
    "    f_m = int(bin[m])             # center\n",
    "    f_m_plus = int(bin[m + 1])    # right\n",
    "    for k in range(f_m_minus, f_m):\n",
    "        fbank[m - 1, k] = (k - bin[m - 1]) / (bin[m] - bin[m - 1])\n",
    "    for k in range(f_m, f_m_plus):\n",
    "        fbank[m - 1, k] = (bin[m + 1] - k) / (bin[m + 1] - bin[m])\n"
   ]
  },
  {
   "cell_type": "code",
   "execution_count": 29,
   "metadata": {},
   "outputs": [
    {
     "data": {
      "text/plain": [
       "257"
      ]
     },
     "execution_count": 29,
     "metadata": {},
     "output_type": "execute_result"
    }
   ],
   "source": [
    "len(fbank[0])"
   ]
  },
  {
   "cell_type": "code",
   "execution_count": 30,
   "metadata": {},
   "outputs": [
    {
     "data": {
      "text/plain": [
       "257"
      ]
     },
     "execution_count": 30,
     "metadata": {},
     "output_type": "execute_result"
    }
   ],
   "source": [
    "len(fbank[39])"
   ]
  },
  {
   "cell_type": "code",
   "execution_count": 31,
   "metadata": {},
   "outputs": [
    {
     "data": {
      "text/plain": [
       "array([0., 1., 0., 0., 0., 0., 0., 0., 0., 0., 0., 0., 0., 0., 0., 0., 0.,\n",
       "       0., 0., 0., 0., 0., 0., 0., 0., 0., 0., 0., 0., 0., 0., 0., 0., 0.,\n",
       "       0., 0., 0., 0., 0., 0., 0., 0., 0., 0., 0., 0., 0., 0., 0., 0., 0.,\n",
       "       0., 0., 0., 0., 0., 0., 0., 0., 0., 0., 0., 0., 0., 0., 0., 0., 0.,\n",
       "       0., 0., 0., 0., 0., 0., 0., 0., 0., 0., 0., 0., 0., 0., 0., 0., 0.,\n",
       "       0., 0., 0., 0., 0., 0., 0., 0., 0., 0., 0., 0., 0., 0., 0., 0., 0.,\n",
       "       0., 0., 0., 0., 0., 0., 0., 0., 0., 0., 0., 0., 0., 0., 0., 0., 0.,\n",
       "       0., 0., 0., 0., 0., 0., 0., 0., 0., 0., 0., 0., 0., 0., 0., 0., 0.,\n",
       "       0., 0., 0., 0., 0., 0., 0., 0., 0., 0., 0., 0., 0., 0., 0., 0., 0.,\n",
       "       0., 0., 0., 0., 0., 0., 0., 0., 0., 0., 0., 0., 0., 0., 0., 0., 0.,\n",
       "       0., 0., 0., 0., 0., 0., 0., 0., 0., 0., 0., 0., 0., 0., 0., 0., 0.,\n",
       "       0., 0., 0., 0., 0., 0., 0., 0., 0., 0., 0., 0., 0., 0., 0., 0., 0.,\n",
       "       0., 0., 0., 0., 0., 0., 0., 0., 0., 0., 0., 0., 0., 0., 0., 0., 0.,\n",
       "       0., 0., 0., 0., 0., 0., 0., 0., 0., 0., 0., 0., 0., 0., 0., 0., 0.,\n",
       "       0., 0., 0., 0., 0., 0., 0., 0., 0., 0., 0., 0., 0., 0., 0., 0., 0.,\n",
       "       0., 0.])"
      ]
     },
     "execution_count": 31,
     "metadata": {},
     "output_type": "execute_result"
    }
   ],
   "source": [
    "fbank[0]"
   ]
  },
  {
   "cell_type": "code",
   "execution_count": 32,
   "metadata": {},
   "outputs": [
    {
     "data": {
      "text/plain": [
       "array([0.        , 0.        , 0.        , 0.        , 0.        ,\n",
       "       0.        , 0.        , 0.        , 0.        , 0.        ,\n",
       "       0.        , 0.        , 0.        , 0.        , 0.        ,\n",
       "       0.        , 0.        , 0.        , 0.        , 0.        ,\n",
       "       0.        , 0.        , 0.        , 0.        , 0.        ,\n",
       "       0.        , 0.        , 0.        , 0.        , 0.        ,\n",
       "       0.        , 0.        , 0.        , 0.        , 0.        ,\n",
       "       0.        , 0.        , 0.        , 0.        , 0.        ,\n",
       "       0.        , 0.        , 0.        , 0.        , 0.        ,\n",
       "       0.        , 0.        , 0.        , 0.        , 0.        ,\n",
       "       0.        , 0.        , 0.        , 0.        , 0.        ,\n",
       "       0.        , 0.        , 0.        , 0.        , 0.        ,\n",
       "       0.        , 0.        , 0.        , 0.        , 0.        ,\n",
       "       0.        , 0.        , 0.        , 0.        , 0.        ,\n",
       "       0.        , 0.        , 0.        , 0.        , 0.        ,\n",
       "       0.        , 0.        , 0.        , 0.        , 0.        ,\n",
       "       0.        , 0.        , 0.        , 0.        , 0.        ,\n",
       "       0.        , 0.        , 0.        , 0.        , 0.        ,\n",
       "       0.        , 0.        , 0.        , 0.        , 0.        ,\n",
       "       0.        , 0.        , 0.        , 0.        , 0.        ,\n",
       "       0.        , 0.        , 0.        , 0.        , 0.        ,\n",
       "       0.        , 0.        , 0.        , 0.        , 0.        ,\n",
       "       0.        , 0.        , 0.        , 0.        , 0.        ,\n",
       "       0.        , 0.        , 0.        , 0.        , 0.        ,\n",
       "       0.        , 0.        , 0.        , 0.        , 0.        ,\n",
       "       0.        , 0.        , 0.        , 0.        , 0.        ,\n",
       "       0.        , 0.        , 0.        , 0.        , 0.        ,\n",
       "       0.        , 0.        , 0.        , 0.        , 0.        ,\n",
       "       0.        , 0.        , 0.        , 0.        , 0.        ,\n",
       "       0.        , 0.        , 0.        , 0.        , 0.        ,\n",
       "       0.        , 0.        , 0.        , 0.        , 0.        ,\n",
       "       0.        , 0.        , 0.        , 0.        , 0.        ,\n",
       "       0.        , 0.        , 0.        , 0.        , 0.        ,\n",
       "       0.        , 0.        , 0.        , 0.        , 0.        ,\n",
       "       0.        , 0.        , 0.        , 0.        , 0.        ,\n",
       "       0.        , 0.        , 0.        , 0.        , 0.        ,\n",
       "       0.        , 0.        , 0.        , 0.        , 0.        ,\n",
       "       0.        , 0.        , 0.        , 0.        , 0.        ,\n",
       "       0.        , 0.        , 0.        , 0.        , 0.        ,\n",
       "       0.        , 0.        , 0.        , 0.        , 0.        ,\n",
       "       0.        , 0.        , 0.        , 0.        , 0.        ,\n",
       "       0.        , 0.        , 0.        , 0.        , 0.        ,\n",
       "       0.        , 0.        , 0.        , 0.        , 0.        ,\n",
       "       0.        , 0.        , 0.        , 0.        , 0.        ,\n",
       "       0.        , 0.        , 0.        , 0.        , 0.        ,\n",
       "       0.06666667, 0.13333333, 0.2       , 0.26666667, 0.33333333,\n",
       "       0.4       , 0.46666667, 0.53333333, 0.6       , 0.66666667,\n",
       "       0.73333333, 0.8       , 0.86666667, 0.93333333, 1.        ,\n",
       "       0.94117647, 0.88235294, 0.82352941, 0.76470588, 0.70588235,\n",
       "       0.64705882, 0.58823529, 0.52941176, 0.47058824, 0.41176471,\n",
       "       0.35294118, 0.29411765, 0.23529412, 0.17647059, 0.11764706,\n",
       "       0.05882353, 0.        ])"
      ]
     },
     "execution_count": 32,
     "metadata": {},
     "output_type": "execute_result"
    }
   ],
   "source": [
    "fbank[39]"
   ]
  },
  {
   "cell_type": "code",
   "execution_count": 33,
   "metadata": {},
   "outputs": [],
   "source": [
    "filter_banks = np.dot(pow_frames, fbank.T)\n",
    "filter_banks = np.where(filter_banks == 0, np.finfo(float).eps, filter_banks)  # Numerical Stability"
   ]
  },
  {
   "cell_type": "code",
   "execution_count": 34,
   "metadata": {},
   "outputs": [],
   "source": [
    "filter_banks = 20 * np.log10(filter_banks)  # dB"
   ]
  },
  {
   "cell_type": "code",
   "execution_count": 35,
   "metadata": {},
   "outputs": [
    {
     "data": {
      "text/plain": [
       "array([[23.20797748, 28.43010144, 12.25398612, ..., 40.6257818 ,\n",
       "        39.71303889, 47.31537907],\n",
       "       [31.41651703, 27.64136052,  6.05671685, ..., 33.94876132,\n",
       "        31.78398749, 35.21455301],\n",
       "       [-0.34111568, 23.76028182, 27.63086377, ..., 36.05665245,\n",
       "        36.21223957, 38.67813892],\n",
       "       ...,\n",
       "       [36.93171543, 37.49741118, 79.87932729, ..., 85.35981132,\n",
       "        65.0781584 , 75.43769198],\n",
       "       [43.68564944, 37.76530122, 80.36305299, ..., 81.93777749,\n",
       "        73.32696043, 84.03679199],\n",
       "       [32.69037676, 24.13884613, 80.23978358, ..., 86.63723702,\n",
       "        71.04168507, 78.27677254]])"
      ]
     },
     "execution_count": 35,
     "metadata": {},
     "output_type": "execute_result"
    }
   ],
   "source": [
    "filter_banks"
   ]
  },
  {
   "cell_type": "code",
   "execution_count": 36,
   "metadata": {},
   "outputs": [
    {
     "data": {
      "text/plain": [
       "(348, 40)"
      ]
     },
     "execution_count": 36,
     "metadata": {},
     "output_type": "execute_result"
    }
   ],
   "source": [
    "filter_banks.shape"
   ]
  },
  {
   "cell_type": "code",
   "execution_count": 37,
   "metadata": {},
   "outputs": [],
   "source": [
    "from scipy.fftpack import dct\n",
    "num_ceps = 12\n",
    "mfcc = dct(filter_banks, type=2, axis=1, norm='ortho')[:, 1 : (num_ceps + 1)] # Keep 2-13"
   ]
  },
  {
   "cell_type": "code",
   "execution_count": 38,
   "metadata": {},
   "outputs": [
    {
     "data": {
      "text/plain": [
       "(348, 12)"
      ]
     },
     "execution_count": 38,
     "metadata": {},
     "output_type": "execute_result"
    }
   ],
   "source": [
    "mfcc.shape"
   ]
  },
  {
   "cell_type": "code",
   "execution_count": 39,
   "metadata": {},
   "outputs": [
    {
     "data": {
      "text/plain": [
       "array([[-70.61457095, -73.42417413,   6.03918874, ...,   0.41193953,\n",
       "          0.52327877,   1.33707611],\n",
       "       [-56.42592116, -68.28832959,   8.2060342 , ...,   8.15586847,\n",
       "          0.12371646,  15.13425081],\n",
       "       [-49.63784465, -62.84072546,  -1.38257895, ...,  -0.14776772,\n",
       "         -0.92732454,  -7.98662188],\n",
       "       ...,\n",
       "       [-10.47629573, -43.35025103,  -2.78813316, ..., -15.00487819,\n",
       "         -8.44861337, -18.41546277],\n",
       "       [-13.00736419, -37.74980874,  -3.52627102, ...,  -9.43215238,\n",
       "        -11.52338732, -14.32990337],\n",
       "       [-14.05078172, -48.15574966,  -6.33121662, ..., -17.82431596,\n",
       "        -10.26252646, -20.6654707 ]])"
      ]
     },
     "execution_count": 39,
     "metadata": {},
     "output_type": "execute_result"
    }
   ],
   "source": [
    "mfcc"
   ]
  },
  {
   "cell_type": "code",
   "execution_count": 40,
   "metadata": {},
   "outputs": [],
   "source": [
    "(nframes, ncoeff) = mfcc.shape\n",
    "cep_lifter = 22\n",
    "n = np.arange(ncoeff)\n",
    "lift = 1 + (cep_lifter / 2) * np.sin(np.pi * n / cep_lifter)\n",
    "mfcc *= lift"
   ]
  },
  {
   "cell_type": "code",
   "execution_count": 41,
   "metadata": {},
   "outputs": [
    {
     "data": {
      "text/plain": [
       "array([[ -70.61457095, -188.36701827,   24.75498569, ...,    4.75972343,\n",
       "           6.22075677,   16.04491329],\n",
       "       [ -56.42592116, -175.191198  ,   33.63701118, ...,   94.23635187,\n",
       "           1.4707457 ,  181.61100977],\n",
       "       [ -49.63784465, -161.21556994,   -5.66727146, ...,   -1.70737067,\n",
       "         -11.02406743,  -95.83946253],\n",
       "       ...,\n",
       "       [ -10.47629573, -111.21347463,  -11.4287199 , ..., -173.37270531,\n",
       "        -100.43741869, -220.98555328],\n",
       "       [ -13.00736419,  -96.84574591,  -14.45438987, ..., -108.98307567,\n",
       "        -136.99044168, -171.95884042],\n",
       "       [ -14.05078172, -123.54180462,  -25.95202492, ..., -205.94968109,\n",
       "        -122.00128262, -247.98564834]])"
      ]
     },
     "execution_count": 41,
     "metadata": {},
     "output_type": "execute_result"
    }
   ],
   "source": [
    "mfcc"
   ]
  },
  {
   "cell_type": "markdown",
   "metadata": {},
   "source": [
    "여기까지가 MFCC post processing"
   ]
  },
  {
   "cell_type": "code",
   "execution_count": 42,
   "metadata": {},
   "outputs": [],
   "source": [
    "filter_banks -= (np.mean(filter_banks, axis=0) + 1e-8)"
   ]
  },
  {
   "cell_type": "code",
   "execution_count": 43,
   "metadata": {},
   "outputs": [
    {
     "data": {
      "text/plain": [
       "array([[ -5.51767373,  -3.4808014 , -44.47846101, ..., -24.56746926,\n",
       "        -21.40441976, -13.11285479],\n",
       "       [  2.69086582,  -4.26954232, -50.67573028, ..., -31.24448974,\n",
       "        -29.33347116, -25.21368086],\n",
       "       [-29.06676688,  -8.15062102, -29.10158336, ..., -29.13659861,\n",
       "        -24.90521909, -21.75009495],\n",
       "       ...,\n",
       "       [  8.20606423,   5.58650835,  23.14688016, ...,  20.16656026,\n",
       "          3.96069974,  15.00945812],\n",
       "       [ 14.95999823,   5.85439839,  23.63060586, ...,  16.74452643,\n",
       "         12.20950178,  23.60855813],\n",
       "       [  3.96472556,  -7.7720567 ,  23.50733646, ...,  21.44398596,\n",
       "          9.92422641,  17.84853868]])"
      ]
     },
     "execution_count": 43,
     "metadata": {},
     "output_type": "execute_result"
    }
   ],
   "source": [
    "filter_banks"
   ]
  },
  {
   "cell_type": "markdown",
   "metadata": {},
   "source": [
    "여기는 mean normalization"
   ]
  },
  {
   "cell_type": "code",
   "execution_count": null,
   "metadata": {},
   "outputs": [],
   "source": []
  }
 ],
 "metadata": {
  "kernelspec": {
   "display_name": "Python 3",
   "language": "python",
   "name": "python3"
  },
  "language_info": {
   "codemirror_mode": {
    "name": "ipython",
    "version": 3
   },
   "file_extension": ".py",
   "mimetype": "text/x-python",
   "name": "python",
   "nbconvert_exporter": "python",
   "pygments_lexer": "ipython3",
   "version": "3.10.12"
  }
 },
 "nbformat": 4,
 "nbformat_minor": 2
}
